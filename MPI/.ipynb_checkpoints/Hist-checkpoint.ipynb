{
 "cells": [
  {
   "cell_type": "code",
   "execution_count": 1,
   "id": "fd38abfd",
   "metadata": {},
   "outputs": [
    {
     "data": {
      "text/plain": [
       "<Figure size 700x400 with 0 Axes>"
      ]
     },
     "metadata": {},
     "output_type": "display_data"
    }
   ],
   "source": [
    "import numpy as np\n",
    "import matplotlib.pyplot as plt\n",
    "from mpl_toolkits.mplot3d import Axes3D\n",
    "import random\n",
    "\n",
    "fig = plt.figure(figsize=(7, 4))\n",
    "ax_3d = Axes3D(fig)\n",
    "#y = np.arange(1, 6, 1)\n",
    "#x = np.array([1, 2, 4, 8, 16, 32, 64])\n",
    "x = np.array([1, 2, 4, 8, 16, 32, 64])\n",
    "y = np.array([30, 120, 400, 2000, 4000])\n",
    "x, y = np.meshgrid(x, y)\n",
    "z = np.array([0.000021,\n",
    "0.000143,\n",
    "0.001115,\n",
    "0.040217,\n",
    "0.109209,\n",
    "0.000272,\n",
    "0.000725,\n",
    "0.002718,\n",
    "0.014581,\n",
    "0.080754,\n",
    "0.000485,\n",
    "0.000942,\n",
    "0.003401,\n",
    "0.009960,\n",
    "0.042764,\n",
    "0.000437,\n",
    "0.001890,\n",
    "0.004823,\n",
    "0.011666,\n",
    "0.038849,\n",
    "0.000512,\n",
    "0.001895,\n",
    "0.005033,\n",
    "0.017511,\n",
    "0.039704,\n",
    "0.000552,\n",
    "0.001677,\n",
    "0.006039,\n",
    "0.019045,\n",
    "0.039177,\n",
    "0.000583,\n",
    "0.001368,\n",
    "0.005861,\n",
    "0.020192,\n",
    "0.040928\n",
    "]).reshape((7, 5)).T\n",
    "ax_3d.plot_surface(x, y, z)\n",
    "ax_3d.set_xlabel('число потоков')\n",
    "ax_3d.set_ylabel('размер')\n",
    "ax_3d.set_zlabel('время')\n",
    "plt.show()"
   ]
  },
  {
   "cell_type": "code",
   "execution_count": null,
   "id": "2bdc3b99",
   "metadata": {},
   "outputs": [],
   "source": []
  }
 ],
 "metadata": {
  "kernelspec": {
   "display_name": "Python 3 (ipykernel)",
   "language": "python",
   "name": "python3"
  },
  "language_info": {
   "codemirror_mode": {
    "name": "ipython",
    "version": 3
   },
   "file_extension": ".py",
   "mimetype": "text/x-python",
   "name": "python",
   "nbconvert_exporter": "python",
   "pygments_lexer": "ipython3",
   "version": "3.10.6"
  }
 },
 "nbformat": 4,
 "nbformat_minor": 5
}
