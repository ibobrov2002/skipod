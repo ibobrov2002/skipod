{
 "cells": [
  {
   "cell_type": "code",
   "execution_count": 1,
   "id": "1195ee84",
   "metadata": {},
   "outputs": [
    {
     "data": {
      "text/plain": [
       "<Figure size 700x400 with 0 Axes>"
      ]
     },
     "metadata": {},
     "output_type": "display_data"
    }
   ],
   "source": [
    "import numpy as np\n",
    "import matplotlib.pyplot as plt\n",
    "from mpl_toolkits.mplot3d import Axes3D\n",
    "import random\n",
    "\n",
    "fig = plt.figure(figsize=(7, 4))\n",
    "ax_3d = Axes3D(fig)\n",
    "y = np.arange(1, 6, 1)\n",
    "x = np.array([1, 2, 4, 8, 16, 32, 64])\n",
    "#x = np.array([1, 1, 1, 1, 1, 2, 2, 2, 2, 2, 4, 4, 4, 4, 4, 8, 8, 8, 8, 8, 16, 16, 16, 16, 16, 32, 32, 32, 32, 32, \n",
    "            #  64, 64, 64, 64, 64])\n",
    "#y = np.array([30, 120, 400, 2000, 4000]*7)\n",
    "x, y = np.meshgrid(x, y)\n",
    "z = np.array([0.000003, 0.000014, 0.000109, 0.002719, 0.010855,\n",
    "0.000004, 0.000015, 0.000060, 0.001381, 0.005484, \n",
    "0.000007, 0.000018, 0.000047, 0.000867, 0.003567,\n",
    "0.000010, 0.000020, 0.000049, 0.000597, 0.002300,\n",
    "0.000010, 0.000017, 0.000046, 0.000447, 0.001670,\n",
    "0.000013, 0.000023, 0.000054, 0.000451, 0.001648,\n",
    "0.000010, 0.000027, 0.000055, 0.000580, 0.001903]).reshape((5, 7))\n",
    "ax_3d.plot_surface(x, y, z)\n",
    "plt.show()"
   ]
  },
  {
   "cell_type": "code",
   "execution_count": 23,
   "id": "7c6c1210",
   "metadata": {
    "scrolled": true
   },
   "outputs": [
    {
     "name": "stdout",
     "output_type": "stream",
     "text": [
      "Requirement already satisfied: matplotlib in /home/igor/jupyter/lib/python3.10/site-packages (3.6.2)\n",
      "Requirement already satisfied: cycler>=0.10 in /home/igor/jupyter/lib/python3.10/site-packages (from matplotlib) (0.11.0)\n",
      "Requirement already satisfied: python-dateutil>=2.7 in /home/igor/jupyter/lib/python3.10/site-packages (from matplotlib) (2.8.2)\n",
      "Requirement already satisfied: packaging>=20.0 in /home/igor/jupyter/lib/python3.10/site-packages (from matplotlib) (21.3)\n",
      "Requirement already satisfied: kiwisolver>=1.0.1 in /home/igor/jupyter/lib/python3.10/site-packages (from matplotlib) (1.4.4)\n",
      "Requirement already satisfied: numpy>=1.19 in /home/igor/jupyter/lib/python3.10/site-packages (from matplotlib) (1.23.3)\n",
      "Requirement already satisfied: pyparsing>=2.2.1 in /home/igor/jupyter/lib/python3.10/site-packages (from matplotlib) (3.0.9)\n",
      "Requirement already satisfied: fonttools>=4.22.0 in /home/igor/jupyter/lib/python3.10/site-packages (from matplotlib) (4.38.0)\n",
      "Requirement already satisfied: contourpy>=1.0.1 in /home/igor/jupyter/lib/python3.10/site-packages (from matplotlib) (1.0.6)\n",
      "Requirement already satisfied: pillow>=6.2.0 in /home/igor/jupyter/lib/python3.10/site-packages (from matplotlib) (9.3.0)\n",
      "Requirement already satisfied: six>=1.5 in /home/igor/jupyter/lib/python3.10/site-packages (from python-dateutil>=2.7->matplotlib) (1.16.0)\n"
     ]
    }
   ],
   "source": [
    "!pip3 install matplotlib"
   ]
  },
  {
   "cell_type": "code",
   "execution_count": null,
   "id": "4c4752d1",
   "metadata": {},
   "outputs": [],
   "source": []
  }
 ],
 "metadata": {
  "kernelspec": {
   "display_name": "Python 3 (ipykernel)",
   "language": "python",
   "name": "python3"
  },
  "language_info": {
   "codemirror_mode": {
    "name": "ipython",
    "version": 3
   },
   "file_extension": ".py",
   "mimetype": "text/x-python",
   "name": "python",
   "nbconvert_exporter": "python",
   "pygments_lexer": "ipython3",
   "version": "3.10.6"
  }
 },
 "nbformat": 4,
 "nbformat_minor": 5
}
